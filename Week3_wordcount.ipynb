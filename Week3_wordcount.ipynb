{
 "cells": [
  {
   "cell_type": "code",
   "execution_count": 1,
   "id": "ff6fe49f",
   "metadata": {},
   "outputs": [],
   "source": [
    "from pyspark.sql import SparkSession\n",
    "import getpass\n",
    "username = getpass.getuser()\n",
    "spark = SparkSession. \\\n",
    "builder. \\\n",
    "config('spark.ui.port', '0'). \\\n",
    "config(\"spark.sql.warehouse.dir\", f\"/user/{username}/warehouse\"). \\\n",
    "enableHiveSupport(). \\\n",
    "master('yarn'). \\\n",
    "getOrCreate()"
   ]
  },
  {
   "cell_type": "markdown",
   "id": "a2ba501b",
   "metadata": {},
   "source": [
    "##### Please replace the external id: itv006277 number with your id number in the code"
   ]
  },
  {
   "cell_type": "code",
   "execution_count": 2,
   "id": "62cdb17e",
   "metadata": {},
   "outputs": [],
   "source": [
    "rdd1 = spark.sparkContext.textFile(\"/user/itv006277/data/inputfile.txt\")"
   ]
  },
  {
   "cell_type": "code",
   "execution_count": 3,
   "id": "a5e86356",
   "metadata": {},
   "outputs": [],
   "source": [
    "rdd2 = rdd1.flatMap(lambda x : x.split(\" \"))"
   ]
  },
  {
   "cell_type": "code",
   "execution_count": 4,
   "id": "eb48b863",
   "metadata": {},
   "outputs": [],
   "source": [
    "rdd3 = rdd2.map(lambda word : (word,1))"
   ]
  },
  {
   "cell_type": "code",
   "execution_count": 5,
   "id": "81f19ed6",
   "metadata": {},
   "outputs": [],
   "source": [
    "rdd4 = rdd3.reduceByKey(lambda x,y : x+y)"
   ]
  },
  {
   "cell_type": "code",
   "execution_count": 6,
   "id": "72c2abd9",
   "metadata": {},
   "outputs": [
    {
     "data": {
      "text/plain": [
       "[('name', 2),\n",
       " ('is', 4),\n",
       " ('sumit', 1),\n",
       " ('i', 1),\n",
       " ('institute', 1),\n",
       " ('trendytech', 1),\n",
       " ('very', 1),\n",
       " ('interesting', 1),\n",
       " ('of', 1),\n",
       " ('msot', 1),\n",
       " ('trending', 1),\n",
       " ('technology', 1),\n",
       " ('big', 3),\n",
       " ('data', 3),\n",
       " ('one', 1),\n",
       " ('the', 1),\n",
       " ('my', 2),\n",
       " ('and', 1),\n",
       " ('teach', 1)]"
      ]
     },
     "execution_count": 6,
     "metadata": {},
     "output_type": "execute_result"
    }
   ],
   "source": [
    "rdd4.collect()"
   ]
  },
  {
   "cell_type": "code",
   "execution_count": 7,
   "id": "1b0d2c38",
   "metadata": {},
   "outputs": [],
   "source": [
    "rdd4.saveAsTextFile(\"/user/itv006277/data/newoutput\")"
   ]
  },
  {
   "cell_type": "code",
   "execution_count": null,
   "id": "ff23bb54",
   "metadata": {},
   "outputs": [],
   "source": []
  }
 ],
 "metadata": {
  "kernelspec": {
   "display_name": "Pyspark 3",
   "language": "python",
   "name": "pyspark3"
  },
  "language_info": {
   "codemirror_mode": {
    "name": "ipython",
    "version": 3
   },
   "file_extension": ".py",
   "mimetype": "text/x-python",
   "name": "python",
   "nbconvert_exporter": "python",
   "pygments_lexer": "ipython3",
   "version": "3.6.12"
  }
 },
 "nbformat": 4,
 "nbformat_minor": 5
}
